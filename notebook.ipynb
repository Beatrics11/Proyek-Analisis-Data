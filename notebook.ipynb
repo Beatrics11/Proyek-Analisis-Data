{
 "cells": [
  {
   "cell_type": "markdown",
   "metadata": {
    "id": "H9wADwK78DCz"
   },
   "source": [
    "# Proyek Analisis Data: [Bike Sharing Dataset]\n",
    "- **Nama:** [Beatrics Sahcayani Purba]\n",
    "- **Email:** [beatricsspurba@gmail.com]\n",
    "- **ID Dicoding:** [beatrics11]"
   ]
  },
  {
   "cell_type": "markdown",
   "metadata": {
    "id": "eE0raob58DC0"
   },
   "source": [
    "## Menentukan Pertanyaan Bisnis"
   ]
  },
  {
   "cell_type": "markdown",
   "metadata": {},
   "source": [
    "Dari proses analisis yang dilakukan maka akan ditemukan jawaban dari masing-masing pertanyaan berikut ini"
   ]
  },
  {
   "cell_type": "markdown",
   "metadata": {
    "id": "GmQeQ5YF8DC0"
   },
   "source": [
    "- Bagaimana perbandingan penyewaan sepeda pada hari kerja dengan hari weekend?\n",
    "- Bagaimana pengaruh cuaca terhadap banyaknya penyewa sepeda?"
   ]
  },
  {
   "cell_type": "markdown",
   "metadata": {
    "id": "H-z4QGlO8DC1"
   },
   "source": [
    "## Import Semua Packages/Library yang Digunakan"
   ]
  },
  {
   "cell_type": "code",
   "execution_count": 1,
   "metadata": {
    "id": "FVYwaObI8DC1"
   },
   "outputs": [],
   "source": [
    "import pandas as pd\n",
    "import numpy as np\n",
    "import matplotlib.pyplot as plt\n",
    "import seaborn as sns\n",
    "from sklearn import preprocessing\n",
    "from sklearn.cluster import KMeans\n",
    "import seaborn as sns\n",
    "import matplotlib.pyplot as plt\n",
    "from scipy import stats"
   ]
  },
  {
   "cell_type": "markdown",
   "metadata": {
    "id": "h_Sh51Xy8DC1"
   },
   "source": [
    "## Data Wrangling"
   ]
  },
  {
   "cell_type": "markdown",
   "metadata": {},
   "source": [
    "Data wrangling merupakan sebuah proses atau kumpulan kegiatan yang meliputi pengumpulan data (Gathering data), penilaian data (Assessing data), serta pembersihan data (Cleaning data) sebelum data digunakan dalam proses analisis data"
   ]
  },
  {
   "cell_type": "markdown",
   "metadata": {
    "id": "sXU2GBYu8DC1"
   },
   "source": [
    "### Gathering Data"
   ]
  },
  {
   "cell_type": "markdown",
   "metadata": {},
   "source": [
    "Pada proses ini kita akan mengumpulkan semua data yang dibutuhkan untuk menjawab semua pertanyaan atau masalah bisnis yang ingin kita hadapi."
   ]
  },
  {
   "cell_type": "code",
   "execution_count": 2,
   "metadata": {
    "id": "zjCBk1BI8DC1"
   },
   "outputs": [
    {
     "data": {
      "text/html": [
       "<div>\n",
       "<style scoped>\n",
       "    .dataframe tbody tr th:only-of-type {\n",
       "        vertical-align: middle;\n",
       "    }\n",
       "\n",
       "    .dataframe tbody tr th {\n",
       "        vertical-align: top;\n",
       "    }\n",
       "\n",
       "    .dataframe thead th {\n",
       "        text-align: right;\n",
       "    }\n",
       "</style>\n",
       "<table border=\"1\" class=\"dataframe\">\n",
       "  <thead>\n",
       "    <tr style=\"text-align: right;\">\n",
       "      <th></th>\n",
       "      <th>instant</th>\n",
       "      <th>dteday</th>\n",
       "      <th>season</th>\n",
       "      <th>yr</th>\n",
       "      <th>mnth</th>\n",
       "      <th>holiday</th>\n",
       "      <th>weekday</th>\n",
       "      <th>workingday</th>\n",
       "      <th>weathersit</th>\n",
       "      <th>temp</th>\n",
       "      <th>atemp</th>\n",
       "      <th>hum</th>\n",
       "      <th>windspeed</th>\n",
       "      <th>casual</th>\n",
       "      <th>registered</th>\n",
       "      <th>cnt</th>\n",
       "    </tr>\n",
       "  </thead>\n",
       "  <tbody>\n",
       "    <tr>\n",
       "      <th>0</th>\n",
       "      <td>1</td>\n",
       "      <td>2011-01-01</td>\n",
       "      <td>1</td>\n",
       "      <td>0</td>\n",
       "      <td>1</td>\n",
       "      <td>0</td>\n",
       "      <td>6</td>\n",
       "      <td>0</td>\n",
       "      <td>2</td>\n",
       "      <td>0.344167</td>\n",
       "      <td>0.363625</td>\n",
       "      <td>0.805833</td>\n",
       "      <td>0.160446</td>\n",
       "      <td>331</td>\n",
       "      <td>654</td>\n",
       "      <td>985</td>\n",
       "    </tr>\n",
       "    <tr>\n",
       "      <th>1</th>\n",
       "      <td>2</td>\n",
       "      <td>2011-01-02</td>\n",
       "      <td>1</td>\n",
       "      <td>0</td>\n",
       "      <td>1</td>\n",
       "      <td>0</td>\n",
       "      <td>0</td>\n",
       "      <td>0</td>\n",
       "      <td>2</td>\n",
       "      <td>0.363478</td>\n",
       "      <td>0.353739</td>\n",
       "      <td>0.696087</td>\n",
       "      <td>0.248539</td>\n",
       "      <td>131</td>\n",
       "      <td>670</td>\n",
       "      <td>801</td>\n",
       "    </tr>\n",
       "    <tr>\n",
       "      <th>2</th>\n",
       "      <td>3</td>\n",
       "      <td>2011-01-03</td>\n",
       "      <td>1</td>\n",
       "      <td>0</td>\n",
       "      <td>1</td>\n",
       "      <td>0</td>\n",
       "      <td>1</td>\n",
       "      <td>1</td>\n",
       "      <td>1</td>\n",
       "      <td>0.196364</td>\n",
       "      <td>0.189405</td>\n",
       "      <td>0.437273</td>\n",
       "      <td>0.248309</td>\n",
       "      <td>120</td>\n",
       "      <td>1229</td>\n",
       "      <td>1349</td>\n",
       "    </tr>\n",
       "    <tr>\n",
       "      <th>3</th>\n",
       "      <td>4</td>\n",
       "      <td>2011-01-04</td>\n",
       "      <td>1</td>\n",
       "      <td>0</td>\n",
       "      <td>1</td>\n",
       "      <td>0</td>\n",
       "      <td>2</td>\n",
       "      <td>1</td>\n",
       "      <td>1</td>\n",
       "      <td>0.200000</td>\n",
       "      <td>0.212122</td>\n",
       "      <td>0.590435</td>\n",
       "      <td>0.160296</td>\n",
       "      <td>108</td>\n",
       "      <td>1454</td>\n",
       "      <td>1562</td>\n",
       "    </tr>\n",
       "    <tr>\n",
       "      <th>4</th>\n",
       "      <td>5</td>\n",
       "      <td>2011-01-05</td>\n",
       "      <td>1</td>\n",
       "      <td>0</td>\n",
       "      <td>1</td>\n",
       "      <td>0</td>\n",
       "      <td>3</td>\n",
       "      <td>1</td>\n",
       "      <td>1</td>\n",
       "      <td>0.226957</td>\n",
       "      <td>0.229270</td>\n",
       "      <td>0.436957</td>\n",
       "      <td>0.186900</td>\n",
       "      <td>82</td>\n",
       "      <td>1518</td>\n",
       "      <td>1600</td>\n",
       "    </tr>\n",
       "  </tbody>\n",
       "</table>\n",
       "</div>"
      ],
      "text/plain": [
       "   instant      dteday  season  yr  mnth  holiday  weekday  workingday  \\\n",
       "0        1  2011-01-01       1   0     1        0        6           0   \n",
       "1        2  2011-01-02       1   0     1        0        0           0   \n",
       "2        3  2011-01-03       1   0     1        0        1           1   \n",
       "3        4  2011-01-04       1   0     1        0        2           1   \n",
       "4        5  2011-01-05       1   0     1        0        3           1   \n",
       "\n",
       "   weathersit      temp     atemp       hum  windspeed  casual  registered  \\\n",
       "0           2  0.344167  0.363625  0.805833   0.160446     331         654   \n",
       "1           2  0.363478  0.353739  0.696087   0.248539     131         670   \n",
       "2           1  0.196364  0.189405  0.437273   0.248309     120        1229   \n",
       "3           1  0.200000  0.212122  0.590435   0.160296     108        1454   \n",
       "4           1  0.226957  0.229270  0.436957   0.186900      82        1518   \n",
       "\n",
       "    cnt  \n",
       "0   985  \n",
       "1   801  \n",
       "2  1349  \n",
       "3  1562  \n",
       "4  1600  "
      ]
     },
     "execution_count": 2,
     "metadata": {},
     "output_type": "execute_result"
    }
   ],
   "source": [
    "# This is use to show data in day.csv\n",
    "for_day_df = pd.read_csv(\"day.csv\", delimiter=\",\")\n",
    "for_day_df.head()"
   ]
  },
  {
   "cell_type": "code",
   "execution_count": 3,
   "metadata": {},
   "outputs": [
    {
     "data": {
      "text/html": [
       "<div>\n",
       "<style scoped>\n",
       "    .dataframe tbody tr th:only-of-type {\n",
       "        vertical-align: middle;\n",
       "    }\n",
       "\n",
       "    .dataframe tbody tr th {\n",
       "        vertical-align: top;\n",
       "    }\n",
       "\n",
       "    .dataframe thead th {\n",
       "        text-align: right;\n",
       "    }\n",
       "</style>\n",
       "<table border=\"1\" class=\"dataframe\">\n",
       "  <thead>\n",
       "    <tr style=\"text-align: right;\">\n",
       "      <th></th>\n",
       "      <th>instant</th>\n",
       "      <th>dteday</th>\n",
       "      <th>season</th>\n",
       "      <th>yr</th>\n",
       "      <th>mnth</th>\n",
       "      <th>hr</th>\n",
       "      <th>holiday</th>\n",
       "      <th>weekday</th>\n",
       "      <th>workingday</th>\n",
       "      <th>weathersit</th>\n",
       "      <th>temp</th>\n",
       "      <th>atemp</th>\n",
       "      <th>hum</th>\n",
       "      <th>windspeed</th>\n",
       "      <th>casual</th>\n",
       "      <th>registered</th>\n",
       "      <th>cnt</th>\n",
       "    </tr>\n",
       "  </thead>\n",
       "  <tbody>\n",
       "    <tr>\n",
       "      <th>0</th>\n",
       "      <td>1</td>\n",
       "      <td>2011-01-01</td>\n",
       "      <td>1</td>\n",
       "      <td>0</td>\n",
       "      <td>1</td>\n",
       "      <td>0</td>\n",
       "      <td>0</td>\n",
       "      <td>6</td>\n",
       "      <td>0</td>\n",
       "      <td>1</td>\n",
       "      <td>0.24</td>\n",
       "      <td>0.2879</td>\n",
       "      <td>0.81</td>\n",
       "      <td>0.0</td>\n",
       "      <td>3</td>\n",
       "      <td>13</td>\n",
       "      <td>16</td>\n",
       "    </tr>\n",
       "    <tr>\n",
       "      <th>1</th>\n",
       "      <td>2</td>\n",
       "      <td>2011-01-01</td>\n",
       "      <td>1</td>\n",
       "      <td>0</td>\n",
       "      <td>1</td>\n",
       "      <td>1</td>\n",
       "      <td>0</td>\n",
       "      <td>6</td>\n",
       "      <td>0</td>\n",
       "      <td>1</td>\n",
       "      <td>0.22</td>\n",
       "      <td>0.2727</td>\n",
       "      <td>0.80</td>\n",
       "      <td>0.0</td>\n",
       "      <td>8</td>\n",
       "      <td>32</td>\n",
       "      <td>40</td>\n",
       "    </tr>\n",
       "    <tr>\n",
       "      <th>2</th>\n",
       "      <td>3</td>\n",
       "      <td>2011-01-01</td>\n",
       "      <td>1</td>\n",
       "      <td>0</td>\n",
       "      <td>1</td>\n",
       "      <td>2</td>\n",
       "      <td>0</td>\n",
       "      <td>6</td>\n",
       "      <td>0</td>\n",
       "      <td>1</td>\n",
       "      <td>0.22</td>\n",
       "      <td>0.2727</td>\n",
       "      <td>0.80</td>\n",
       "      <td>0.0</td>\n",
       "      <td>5</td>\n",
       "      <td>27</td>\n",
       "      <td>32</td>\n",
       "    </tr>\n",
       "    <tr>\n",
       "      <th>3</th>\n",
       "      <td>4</td>\n",
       "      <td>2011-01-01</td>\n",
       "      <td>1</td>\n",
       "      <td>0</td>\n",
       "      <td>1</td>\n",
       "      <td>3</td>\n",
       "      <td>0</td>\n",
       "      <td>6</td>\n",
       "      <td>0</td>\n",
       "      <td>1</td>\n",
       "      <td>0.24</td>\n",
       "      <td>0.2879</td>\n",
       "      <td>0.75</td>\n",
       "      <td>0.0</td>\n",
       "      <td>3</td>\n",
       "      <td>10</td>\n",
       "      <td>13</td>\n",
       "    </tr>\n",
       "    <tr>\n",
       "      <th>4</th>\n",
       "      <td>5</td>\n",
       "      <td>2011-01-01</td>\n",
       "      <td>1</td>\n",
       "      <td>0</td>\n",
       "      <td>1</td>\n",
       "      <td>4</td>\n",
       "      <td>0</td>\n",
       "      <td>6</td>\n",
       "      <td>0</td>\n",
       "      <td>1</td>\n",
       "      <td>0.24</td>\n",
       "      <td>0.2879</td>\n",
       "      <td>0.75</td>\n",
       "      <td>0.0</td>\n",
       "      <td>0</td>\n",
       "      <td>1</td>\n",
       "      <td>1</td>\n",
       "    </tr>\n",
       "  </tbody>\n",
       "</table>\n",
       "</div>"
      ],
      "text/plain": [
       "   instant      dteday  season  yr  mnth  hr  holiday  weekday  workingday  \\\n",
       "0        1  2011-01-01       1   0     1   0        0        6           0   \n",
       "1        2  2011-01-01       1   0     1   1        0        6           0   \n",
       "2        3  2011-01-01       1   0     1   2        0        6           0   \n",
       "3        4  2011-01-01       1   0     1   3        0        6           0   \n",
       "4        5  2011-01-01       1   0     1   4        0        6           0   \n",
       "\n",
       "   weathersit  temp   atemp   hum  windspeed  casual  registered  cnt  \n",
       "0           1  0.24  0.2879  0.81        0.0       3          13   16  \n",
       "1           1  0.22  0.2727  0.80        0.0       8          32   40  \n",
       "2           1  0.22  0.2727  0.80        0.0       5          27   32  \n",
       "3           1  0.24  0.2879  0.75        0.0       3          10   13  \n",
       "4           1  0.24  0.2879  0.75        0.0       0           1    1  "
      ]
     },
     "execution_count": 3,
     "metadata": {},
     "output_type": "execute_result"
    }
   ],
   "source": [
    "# This is use to show data in hour.csv\n",
    "for_hour_df = pd.read_csv(\"hour.csv\", delimiter=\",\")\n",
    "for_hour_df.head()"
   ]
  },
  {
   "cell_type": "markdown",
   "metadata": {
    "id": "MMi6xGaDkbCi"
   },
   "source": [
    "**Insight from the process:**\n",
    "- Dari dataset tersebut terdapat dua data table yang digunakan untuk proses analisis data"
   ]
  },
  {
   "cell_type": "markdown",
   "metadata": {
    "id": "FHSiqaZp8DC1"
   },
   "source": [
    "### Assessing Data"
   ]
  },
  {
   "cell_type": "markdown",
   "metadata": {},
   "source": [
    "Proses ini dilakukan untuk menilai kualitas dan struktur dari sebuah data. Selain itu, proses ini juga bertujuan untuk mengidentifikasi berbagai masalah yang terdapat dalam data, seperti missing value, unstandard value, dll."
   ]
  },
  {
   "cell_type": "markdown",
   "metadata": {},
   "source": [
    "#### Show The Data Type From Dataset"
   ]
  },
  {
   "cell_type": "code",
   "execution_count": 4,
   "metadata": {
    "id": "ax-3tEjc9Cj1"
   },
   "outputs": [
    {
     "name": "stdout",
     "output_type": "stream",
     "text": [
      "Data type of each variable in day.csv\n",
      "\n",
      "instant         int64\n",
      "dteday         object\n",
      "season          int64\n",
      "yr              int64\n",
      "mnth            int64\n",
      "holiday         int64\n",
      "weekday         int64\n",
      "workingday      int64\n",
      "weathersit      int64\n",
      "temp          float64\n",
      "atemp         float64\n",
      "hum           float64\n",
      "windspeed     float64\n",
      "casual          int64\n",
      "registered      int64\n",
      "cnt             int64\n",
      "dtype: object\n",
      "\n",
      "Data type of each variable in hour.csv\n",
      "instant         int64\n",
      "dteday         object\n",
      "season          int64\n",
      "yr              int64\n",
      "mnth            int64\n",
      "hr              int64\n",
      "holiday         int64\n",
      "weekday         int64\n",
      "workingday      int64\n",
      "weathersit      int64\n",
      "temp          float64\n",
      "atemp         float64\n",
      "hum           float64\n",
      "windspeed     float64\n",
      "casual          int64\n",
      "registered      int64\n",
      "cnt             int64\n",
      "dtype: object\n"
     ]
    }
   ],
   "source": [
    "# Show all of the data types in each variable\n",
    "print(\"Data type of each variable in day.csv\\n\")\n",
    "for_day_df_datatypes = for_day_df.dtypes\n",
    "print(for_day_df_datatypes)\n",
    "\n",
    "print(\"\\nData type of each variable in hour.csv\")\n",
    "for_hour_df_datatypes = for_hour_df.dtypes\n",
    "print(for_hour_df_datatypes)"
   ]
  },
  {
   "cell_type": "markdown",
   "metadata": {
    "id": "7dtxhAPrkhPL"
   },
   "source": [
    "**Insight:**\n",
    "- Tipe data dari setiap variebel ada yang merupakan integer, object dan juga float\n",
    "- Terdapat variabel dteday dan berarti memungkinkan jika dilakukan analisis deret waktu"
   ]
  },
  {
   "cell_type": "markdown",
   "metadata": {},
   "source": [
    "#### Setelah mengetahui tipe data dari setiap variabel, maka dilakukan identifikasi untuk mengetahui masalah yang mungkin ada dari dataset tersebut"
   ]
  },
  {
   "cell_type": "markdown",
   "metadata": {},
   "source": [
    "#### Detecting The Missing Value"
   ]
  },
  {
   "cell_type": "code",
   "execution_count": 5,
   "metadata": {},
   "outputs": [
    {
     "data": {
      "text/plain": [
       "instant       0\n",
       "dteday        0\n",
       "season        0\n",
       "yr            0\n",
       "mnth          0\n",
       "hr            0\n",
       "holiday       0\n",
       "weekday       0\n",
       "workingday    0\n",
       "weathersit    0\n",
       "temp          0\n",
       "atemp         0\n",
       "hum           0\n",
       "windspeed     0\n",
       "casual        0\n",
       "registered    0\n",
       "cnt           0\n",
       "dtype: int64"
      ]
     },
     "execution_count": 5,
     "metadata": {},
     "output_type": "execute_result"
    }
   ],
   "source": [
    "for_day_df.isnull().sum()\n",
    "for_hour_df.isnull().sum()"
   ]
  },
  {
   "cell_type": "markdown",
   "metadata": {},
   "source": [
    "**Tidak ditemukan adanya missing value pada kedua tabel data tersebut**"
   ]
  },
  {
   "cell_type": "markdown",
   "metadata": {},
   "source": [
    "#### Detecting The Duplicate Data"
   ]
  },
  {
   "cell_type": "code",
   "execution_count": 6,
   "metadata": {},
   "outputs": [
    {
     "name": "stdout",
     "output_type": "stream",
     "text": [
      "There is no duplicated data in day.csv\n",
      "\n",
      "There is no duplicated data in hour.csv\n"
     ]
    }
   ],
   "source": [
    "# Show duplicated data in day.csv\n",
    "day_duplicated_rows = for_day_df[for_day_df.duplicated()]\n",
    "\n",
    "if day_duplicated_rows.empty:\n",
    "    print(\"There is no duplicated data in day.csv\")\n",
    "else:\n",
    "    print(f\"There is {len(day_duplicated_rows)}duplicated data\")\n",
    "    print(\"\\n Data duplikat:\")\n",
    "    print(day_duplicated_rows)\n",
    "\n",
    "# Show duplicated data in hour.csv\n",
    "hour_duplicated_rows = for_hour_df[for_hour_df.duplicated()]\n",
    "\n",
    "if hour_duplicated_rows.empty:\n",
    "    print(\"\\nThere is no duplicated data in hour.csv\")\n",
    "else:\n",
    "    print(f\"There is {len(hour_duplicated_rows)}duplicated data\")\n",
    "    print(\"\\n Data duplikat:\")\n",
    "    print(hour_duplicated_rows)\n"
   ]
  },
  {
   "cell_type": "markdown",
   "metadata": {},
   "source": [
    "**Tidak ada data duplikat dari kedua data tersebut**"
   ]
  },
  {
   "cell_type": "markdown",
   "metadata": {},
   "source": [
    "#### Checking The Statistic Value"
   ]
  },
  {
   "cell_type": "code",
   "execution_count": 7,
   "metadata": {},
   "outputs": [
    {
     "data": {
      "text/html": [
       "<div>\n",
       "<style scoped>\n",
       "    .dataframe tbody tr th:only-of-type {\n",
       "        vertical-align: middle;\n",
       "    }\n",
       "\n",
       "    .dataframe tbody tr th {\n",
       "        vertical-align: top;\n",
       "    }\n",
       "\n",
       "    .dataframe thead th {\n",
       "        text-align: right;\n",
       "    }\n",
       "</style>\n",
       "<table border=\"1\" class=\"dataframe\">\n",
       "  <thead>\n",
       "    <tr style=\"text-align: right;\">\n",
       "      <th></th>\n",
       "      <th>instant</th>\n",
       "      <th>season</th>\n",
       "      <th>yr</th>\n",
       "      <th>mnth</th>\n",
       "      <th>holiday</th>\n",
       "      <th>weekday</th>\n",
       "      <th>workingday</th>\n",
       "      <th>weathersit</th>\n",
       "      <th>temp</th>\n",
       "      <th>atemp</th>\n",
       "      <th>hum</th>\n",
       "      <th>windspeed</th>\n",
       "      <th>casual</th>\n",
       "      <th>registered</th>\n",
       "      <th>cnt</th>\n",
       "    </tr>\n",
       "  </thead>\n",
       "  <tbody>\n",
       "    <tr>\n",
       "      <th>count</th>\n",
       "      <td>731.000000</td>\n",
       "      <td>731.000000</td>\n",
       "      <td>731.000000</td>\n",
       "      <td>731.000000</td>\n",
       "      <td>731.000000</td>\n",
       "      <td>731.000000</td>\n",
       "      <td>731.000000</td>\n",
       "      <td>731.000000</td>\n",
       "      <td>731.000000</td>\n",
       "      <td>731.000000</td>\n",
       "      <td>731.000000</td>\n",
       "      <td>731.000000</td>\n",
       "      <td>731.000000</td>\n",
       "      <td>731.000000</td>\n",
       "      <td>731.000000</td>\n",
       "    </tr>\n",
       "    <tr>\n",
       "      <th>mean</th>\n",
       "      <td>366.000000</td>\n",
       "      <td>2.496580</td>\n",
       "      <td>0.500684</td>\n",
       "      <td>6.519836</td>\n",
       "      <td>0.028728</td>\n",
       "      <td>2.997264</td>\n",
       "      <td>0.683995</td>\n",
       "      <td>1.395349</td>\n",
       "      <td>0.495385</td>\n",
       "      <td>0.474354</td>\n",
       "      <td>0.627894</td>\n",
       "      <td>0.190486</td>\n",
       "      <td>848.176471</td>\n",
       "      <td>3656.172367</td>\n",
       "      <td>4504.348837</td>\n",
       "    </tr>\n",
       "    <tr>\n",
       "      <th>std</th>\n",
       "      <td>211.165812</td>\n",
       "      <td>1.110807</td>\n",
       "      <td>0.500342</td>\n",
       "      <td>3.451913</td>\n",
       "      <td>0.167155</td>\n",
       "      <td>2.004787</td>\n",
       "      <td>0.465233</td>\n",
       "      <td>0.544894</td>\n",
       "      <td>0.183051</td>\n",
       "      <td>0.162961</td>\n",
       "      <td>0.142429</td>\n",
       "      <td>0.077498</td>\n",
       "      <td>686.622488</td>\n",
       "      <td>1560.256377</td>\n",
       "      <td>1937.211452</td>\n",
       "    </tr>\n",
       "    <tr>\n",
       "      <th>min</th>\n",
       "      <td>1.000000</td>\n",
       "      <td>1.000000</td>\n",
       "      <td>0.000000</td>\n",
       "      <td>1.000000</td>\n",
       "      <td>0.000000</td>\n",
       "      <td>0.000000</td>\n",
       "      <td>0.000000</td>\n",
       "      <td>1.000000</td>\n",
       "      <td>0.059130</td>\n",
       "      <td>0.079070</td>\n",
       "      <td>0.000000</td>\n",
       "      <td>0.022392</td>\n",
       "      <td>2.000000</td>\n",
       "      <td>20.000000</td>\n",
       "      <td>22.000000</td>\n",
       "    </tr>\n",
       "    <tr>\n",
       "      <th>25%</th>\n",
       "      <td>183.500000</td>\n",
       "      <td>2.000000</td>\n",
       "      <td>0.000000</td>\n",
       "      <td>4.000000</td>\n",
       "      <td>0.000000</td>\n",
       "      <td>1.000000</td>\n",
       "      <td>0.000000</td>\n",
       "      <td>1.000000</td>\n",
       "      <td>0.337083</td>\n",
       "      <td>0.337842</td>\n",
       "      <td>0.520000</td>\n",
       "      <td>0.134950</td>\n",
       "      <td>315.500000</td>\n",
       "      <td>2497.000000</td>\n",
       "      <td>3152.000000</td>\n",
       "    </tr>\n",
       "    <tr>\n",
       "      <th>50%</th>\n",
       "      <td>366.000000</td>\n",
       "      <td>3.000000</td>\n",
       "      <td>1.000000</td>\n",
       "      <td>7.000000</td>\n",
       "      <td>0.000000</td>\n",
       "      <td>3.000000</td>\n",
       "      <td>1.000000</td>\n",
       "      <td>1.000000</td>\n",
       "      <td>0.498333</td>\n",
       "      <td>0.486733</td>\n",
       "      <td>0.626667</td>\n",
       "      <td>0.180975</td>\n",
       "      <td>713.000000</td>\n",
       "      <td>3662.000000</td>\n",
       "      <td>4548.000000</td>\n",
       "    </tr>\n",
       "    <tr>\n",
       "      <th>75%</th>\n",
       "      <td>548.500000</td>\n",
       "      <td>3.000000</td>\n",
       "      <td>1.000000</td>\n",
       "      <td>10.000000</td>\n",
       "      <td>0.000000</td>\n",
       "      <td>5.000000</td>\n",
       "      <td>1.000000</td>\n",
       "      <td>2.000000</td>\n",
       "      <td>0.655417</td>\n",
       "      <td>0.608602</td>\n",
       "      <td>0.730209</td>\n",
       "      <td>0.233214</td>\n",
       "      <td>1096.000000</td>\n",
       "      <td>4776.500000</td>\n",
       "      <td>5956.000000</td>\n",
       "    </tr>\n",
       "    <tr>\n",
       "      <th>max</th>\n",
       "      <td>731.000000</td>\n",
       "      <td>4.000000</td>\n",
       "      <td>1.000000</td>\n",
       "      <td>12.000000</td>\n",
       "      <td>1.000000</td>\n",
       "      <td>6.000000</td>\n",
       "      <td>1.000000</td>\n",
       "      <td>3.000000</td>\n",
       "      <td>0.861667</td>\n",
       "      <td>0.840896</td>\n",
       "      <td>0.972500</td>\n",
       "      <td>0.507463</td>\n",
       "      <td>3410.000000</td>\n",
       "      <td>6946.000000</td>\n",
       "      <td>8714.000000</td>\n",
       "    </tr>\n",
       "  </tbody>\n",
       "</table>\n",
       "</div>"
      ],
      "text/plain": [
       "          instant      season          yr        mnth     holiday     weekday  \\\n",
       "count  731.000000  731.000000  731.000000  731.000000  731.000000  731.000000   \n",
       "mean   366.000000    2.496580    0.500684    6.519836    0.028728    2.997264   \n",
       "std    211.165812    1.110807    0.500342    3.451913    0.167155    2.004787   \n",
       "min      1.000000    1.000000    0.000000    1.000000    0.000000    0.000000   \n",
       "25%    183.500000    2.000000    0.000000    4.000000    0.000000    1.000000   \n",
       "50%    366.000000    3.000000    1.000000    7.000000    0.000000    3.000000   \n",
       "75%    548.500000    3.000000    1.000000   10.000000    0.000000    5.000000   \n",
       "max    731.000000    4.000000    1.000000   12.000000    1.000000    6.000000   \n",
       "\n",
       "       workingday  weathersit        temp       atemp         hum   windspeed  \\\n",
       "count  731.000000  731.000000  731.000000  731.000000  731.000000  731.000000   \n",
       "mean     0.683995    1.395349    0.495385    0.474354    0.627894    0.190486   \n",
       "std      0.465233    0.544894    0.183051    0.162961    0.142429    0.077498   \n",
       "min      0.000000    1.000000    0.059130    0.079070    0.000000    0.022392   \n",
       "25%      0.000000    1.000000    0.337083    0.337842    0.520000    0.134950   \n",
       "50%      1.000000    1.000000    0.498333    0.486733    0.626667    0.180975   \n",
       "75%      1.000000    2.000000    0.655417    0.608602    0.730209    0.233214   \n",
       "max      1.000000    3.000000    0.861667    0.840896    0.972500    0.507463   \n",
       "\n",
       "            casual   registered          cnt  \n",
       "count   731.000000   731.000000   731.000000  \n",
       "mean    848.176471  3656.172367  4504.348837  \n",
       "std     686.622488  1560.256377  1937.211452  \n",
       "min       2.000000    20.000000    22.000000  \n",
       "25%     315.500000  2497.000000  3152.000000  \n",
       "50%     713.000000  3662.000000  4548.000000  \n",
       "75%    1096.000000  4776.500000  5956.000000  \n",
       "max    3410.000000  6946.000000  8714.000000  "
      ]
     },
     "execution_count": 7,
     "metadata": {},
     "output_type": "execute_result"
    }
   ],
   "source": [
    "for_day_df.describe()"
   ]
  },
  {
   "cell_type": "code",
   "execution_count": 8,
   "metadata": {},
   "outputs": [
    {
     "data": {
      "text/html": [
       "<div>\n",
       "<style scoped>\n",
       "    .dataframe tbody tr th:only-of-type {\n",
       "        vertical-align: middle;\n",
       "    }\n",
       "\n",
       "    .dataframe tbody tr th {\n",
       "        vertical-align: top;\n",
       "    }\n",
       "\n",
       "    .dataframe thead th {\n",
       "        text-align: right;\n",
       "    }\n",
       "</style>\n",
       "<table border=\"1\" class=\"dataframe\">\n",
       "  <thead>\n",
       "    <tr style=\"text-align: right;\">\n",
       "      <th></th>\n",
       "      <th>instant</th>\n",
       "      <th>season</th>\n",
       "      <th>yr</th>\n",
       "      <th>mnth</th>\n",
       "      <th>hr</th>\n",
       "      <th>holiday</th>\n",
       "      <th>weekday</th>\n",
       "      <th>workingday</th>\n",
       "      <th>weathersit</th>\n",
       "      <th>temp</th>\n",
       "      <th>atemp</th>\n",
       "      <th>hum</th>\n",
       "      <th>windspeed</th>\n",
       "      <th>casual</th>\n",
       "      <th>registered</th>\n",
       "      <th>cnt</th>\n",
       "    </tr>\n",
       "  </thead>\n",
       "  <tbody>\n",
       "    <tr>\n",
       "      <th>count</th>\n",
       "      <td>17379.0000</td>\n",
       "      <td>17379.000000</td>\n",
       "      <td>17379.000000</td>\n",
       "      <td>17379.000000</td>\n",
       "      <td>17379.000000</td>\n",
       "      <td>17379.000000</td>\n",
       "      <td>17379.000000</td>\n",
       "      <td>17379.000000</td>\n",
       "      <td>17379.000000</td>\n",
       "      <td>17379.000000</td>\n",
       "      <td>17379.000000</td>\n",
       "      <td>17379.000000</td>\n",
       "      <td>17379.000000</td>\n",
       "      <td>17379.000000</td>\n",
       "      <td>17379.000000</td>\n",
       "      <td>17379.000000</td>\n",
       "    </tr>\n",
       "    <tr>\n",
       "      <th>mean</th>\n",
       "      <td>8690.0000</td>\n",
       "      <td>2.501640</td>\n",
       "      <td>0.502561</td>\n",
       "      <td>6.537775</td>\n",
       "      <td>11.546752</td>\n",
       "      <td>0.028770</td>\n",
       "      <td>3.003683</td>\n",
       "      <td>0.682721</td>\n",
       "      <td>1.425283</td>\n",
       "      <td>0.496987</td>\n",
       "      <td>0.475775</td>\n",
       "      <td>0.627229</td>\n",
       "      <td>0.190098</td>\n",
       "      <td>35.676218</td>\n",
       "      <td>153.786869</td>\n",
       "      <td>189.463088</td>\n",
       "    </tr>\n",
       "    <tr>\n",
       "      <th>std</th>\n",
       "      <td>5017.0295</td>\n",
       "      <td>1.106918</td>\n",
       "      <td>0.500008</td>\n",
       "      <td>3.438776</td>\n",
       "      <td>6.914405</td>\n",
       "      <td>0.167165</td>\n",
       "      <td>2.005771</td>\n",
       "      <td>0.465431</td>\n",
       "      <td>0.639357</td>\n",
       "      <td>0.192556</td>\n",
       "      <td>0.171850</td>\n",
       "      <td>0.192930</td>\n",
       "      <td>0.122340</td>\n",
       "      <td>49.305030</td>\n",
       "      <td>151.357286</td>\n",
       "      <td>181.387599</td>\n",
       "    </tr>\n",
       "    <tr>\n",
       "      <th>min</th>\n",
       "      <td>1.0000</td>\n",
       "      <td>1.000000</td>\n",
       "      <td>0.000000</td>\n",
       "      <td>1.000000</td>\n",
       "      <td>0.000000</td>\n",
       "      <td>0.000000</td>\n",
       "      <td>0.000000</td>\n",
       "      <td>0.000000</td>\n",
       "      <td>1.000000</td>\n",
       "      <td>0.020000</td>\n",
       "      <td>0.000000</td>\n",
       "      <td>0.000000</td>\n",
       "      <td>0.000000</td>\n",
       "      <td>0.000000</td>\n",
       "      <td>0.000000</td>\n",
       "      <td>1.000000</td>\n",
       "    </tr>\n",
       "    <tr>\n",
       "      <th>25%</th>\n",
       "      <td>4345.5000</td>\n",
       "      <td>2.000000</td>\n",
       "      <td>0.000000</td>\n",
       "      <td>4.000000</td>\n",
       "      <td>6.000000</td>\n",
       "      <td>0.000000</td>\n",
       "      <td>1.000000</td>\n",
       "      <td>0.000000</td>\n",
       "      <td>1.000000</td>\n",
       "      <td>0.340000</td>\n",
       "      <td>0.333300</td>\n",
       "      <td>0.480000</td>\n",
       "      <td>0.104500</td>\n",
       "      <td>4.000000</td>\n",
       "      <td>34.000000</td>\n",
       "      <td>40.000000</td>\n",
       "    </tr>\n",
       "    <tr>\n",
       "      <th>50%</th>\n",
       "      <td>8690.0000</td>\n",
       "      <td>3.000000</td>\n",
       "      <td>1.000000</td>\n",
       "      <td>7.000000</td>\n",
       "      <td>12.000000</td>\n",
       "      <td>0.000000</td>\n",
       "      <td>3.000000</td>\n",
       "      <td>1.000000</td>\n",
       "      <td>1.000000</td>\n",
       "      <td>0.500000</td>\n",
       "      <td>0.484800</td>\n",
       "      <td>0.630000</td>\n",
       "      <td>0.194000</td>\n",
       "      <td>17.000000</td>\n",
       "      <td>115.000000</td>\n",
       "      <td>142.000000</td>\n",
       "    </tr>\n",
       "    <tr>\n",
       "      <th>75%</th>\n",
       "      <td>13034.5000</td>\n",
       "      <td>3.000000</td>\n",
       "      <td>1.000000</td>\n",
       "      <td>10.000000</td>\n",
       "      <td>18.000000</td>\n",
       "      <td>0.000000</td>\n",
       "      <td>5.000000</td>\n",
       "      <td>1.000000</td>\n",
       "      <td>2.000000</td>\n",
       "      <td>0.660000</td>\n",
       "      <td>0.621200</td>\n",
       "      <td>0.780000</td>\n",
       "      <td>0.253700</td>\n",
       "      <td>48.000000</td>\n",
       "      <td>220.000000</td>\n",
       "      <td>281.000000</td>\n",
       "    </tr>\n",
       "    <tr>\n",
       "      <th>max</th>\n",
       "      <td>17379.0000</td>\n",
       "      <td>4.000000</td>\n",
       "      <td>1.000000</td>\n",
       "      <td>12.000000</td>\n",
       "      <td>23.000000</td>\n",
       "      <td>1.000000</td>\n",
       "      <td>6.000000</td>\n",
       "      <td>1.000000</td>\n",
       "      <td>4.000000</td>\n",
       "      <td>1.000000</td>\n",
       "      <td>1.000000</td>\n",
       "      <td>1.000000</td>\n",
       "      <td>0.850700</td>\n",
       "      <td>367.000000</td>\n",
       "      <td>886.000000</td>\n",
       "      <td>977.000000</td>\n",
       "    </tr>\n",
       "  </tbody>\n",
       "</table>\n",
       "</div>"
      ],
      "text/plain": [
       "          instant        season            yr          mnth            hr  \\\n",
       "count  17379.0000  17379.000000  17379.000000  17379.000000  17379.000000   \n",
       "mean    8690.0000      2.501640      0.502561      6.537775     11.546752   \n",
       "std     5017.0295      1.106918      0.500008      3.438776      6.914405   \n",
       "min        1.0000      1.000000      0.000000      1.000000      0.000000   \n",
       "25%     4345.5000      2.000000      0.000000      4.000000      6.000000   \n",
       "50%     8690.0000      3.000000      1.000000      7.000000     12.000000   \n",
       "75%    13034.5000      3.000000      1.000000     10.000000     18.000000   \n",
       "max    17379.0000      4.000000      1.000000     12.000000     23.000000   \n",
       "\n",
       "            holiday       weekday    workingday    weathersit          temp  \\\n",
       "count  17379.000000  17379.000000  17379.000000  17379.000000  17379.000000   \n",
       "mean       0.028770      3.003683      0.682721      1.425283      0.496987   \n",
       "std        0.167165      2.005771      0.465431      0.639357      0.192556   \n",
       "min        0.000000      0.000000      0.000000      1.000000      0.020000   \n",
       "25%        0.000000      1.000000      0.000000      1.000000      0.340000   \n",
       "50%        0.000000      3.000000      1.000000      1.000000      0.500000   \n",
       "75%        0.000000      5.000000      1.000000      2.000000      0.660000   \n",
       "max        1.000000      6.000000      1.000000      4.000000      1.000000   \n",
       "\n",
       "              atemp           hum     windspeed        casual    registered  \\\n",
       "count  17379.000000  17379.000000  17379.000000  17379.000000  17379.000000   \n",
       "mean       0.475775      0.627229      0.190098     35.676218    153.786869   \n",
       "std        0.171850      0.192930      0.122340     49.305030    151.357286   \n",
       "min        0.000000      0.000000      0.000000      0.000000      0.000000   \n",
       "25%        0.333300      0.480000      0.104500      4.000000     34.000000   \n",
       "50%        0.484800      0.630000      0.194000     17.000000    115.000000   \n",
       "75%        0.621200      0.780000      0.253700     48.000000    220.000000   \n",
       "max        1.000000      1.000000      0.850700    367.000000    886.000000   \n",
       "\n",
       "                cnt  \n",
       "count  17379.000000  \n",
       "mean     189.463088  \n",
       "std      181.387599  \n",
       "min        1.000000  \n",
       "25%       40.000000  \n",
       "50%      142.000000  \n",
       "75%      281.000000  \n",
       "max      977.000000  "
      ]
     },
     "execution_count": 8,
     "metadata": {},
     "output_type": "execute_result"
    }
   ],
   "source": [
    "for_hour_df.describe()"
   ]
  },
  {
   "cell_type": "markdown",
   "metadata": {},
   "source": [
    "**Tidak ada nilai yang anomali pada kedua data tabel tersebut**"
   ]
  },
  {
   "cell_type": "markdown",
   "metadata": {
    "id": "EhN5R4hr8DC1"
   },
   "source": [
    "### Cleaning Data"
   ]
  },
  {
   "cell_type": "markdown",
   "metadata": {},
   "source": [
    "Tujuan dari proses cleaning data adalah untuk memperbaiki atau menghapus kesalahan pada data, ketidakkonsistenan dan ketidakakuratan pada data. Selain itu pada proses ini juga kita mempersiapkan data untuk dapat digunakan untuk proses analisis. "
   ]
  },
  {
   "cell_type": "markdown",
   "metadata": {
    "id": "jVnYpprE9Evz"
   },
   "source": [
    "#### Pemahaman Data dan Validasi Data"
   ]
  },
  {
   "cell_type": "markdown",
   "metadata": {},
   "source": [
    "Pada tahap pemahaman data, dilakukan eksplorasi awal terhadap dataset. Kolom-kolom yang tidak relevan dengan analisis dihapus. Tipe data dari setiap kolom diperiksa dan diubah sesuai kebutuhan untuk memastikan akurasi analisis. Selain itu, nama kolom juga diubah menjadi nama yang lebih deskriptif agar mudah dipahami. Selanjutnya, pada tahap validasi data, dilakukan transformasi data kategorikal menjadi bentuk yang lebih mudah dibaca. Nilai numerik yang merepresentasikan kategori, seperti hari dalam seminggu dan tingkat kelembaban, dikategorikan menjadi label teks untuk memudahkan interpretasi."
   ]
  },
  {
   "cell_type": "markdown",
   "metadata": {},
   "source": [
    "##### Transformasi Data #####"
   ]
  },
  {
   "cell_type": "markdown",
   "metadata": {},
   "source": [
    "**- Mengubah tipe data agar sesuai kebutuhan**"
   ]
  },
  {
   "cell_type": "markdown",
   "metadata": {},
   "source": [
    "Pada kedua data tabel tersebut, ternyata masih ada variabel dengan tipe data yang tidak sesuai dengan yang kita butuhkan. Untuk itu perlu dilakukan pengubahan terhadap tipe data tersebut agar dapat digunakan untuk proses analisis. Beberapa variabel yang harus diubah tipe datanya yakni \"dteday\" (dari yang bersifat obect seharusnya ke bentuk tanggal dan waktu / datetime), season, month, holiday, weekday, weathersit, workingday (dari tipe integer seharusnya ke tipe kategorikal)."
   ]
  },
  {
   "cell_type": "code",
   "execution_count": 9,
   "metadata": {},
   "outputs": [],
   "source": [
    "# Change \"dteday\" to datetime data type\n",
    "for_day_df['dteday'] = pd.to_datetime(for_day_df['dteday'], format='%Y-%m-%d')\n",
    "for_hour_df['dteday'] = pd.to_datetime(for_hour_df['dteday'], format='%Y-%m-%d')"
   ]
  },
  {
   "cell_type": "code",
   "execution_count": 10,
   "metadata": {},
   "outputs": [],
   "source": [
    "# Change \"season\", \"mnth\", \"holiday\", \"weekday\", \"weathershit\", \"workday\" to catgorical data type\n",
    "variables = ['season', 'mnth', 'holiday', 'weekday', 'workingday', 'weathersit']\n",
    "for df in [for_day_df, for_hour_df]:\n",
    "    df[variables] = df[variables].apply(lambda x: pd.Categorical(x))"
   ]
  },
  {
   "cell_type": "markdown",
   "metadata": {},
   "source": [
    "**- Mengubah nilai yang berupa angka menjadi kategori agar mudah dibaca**"
   ]
  },
  {
   "cell_type": "code",
   "execution_count": 11,
   "metadata": {},
   "outputs": [],
   "source": [
    "# Define a dictionary for season conversion\n",
    "season_category = {1: 'Spring', 2: 'Summer', 3: 'Fall', 4: 'Winter'}\n",
    "\n",
    "# Define a dictionary for year conversion\n",
    "year_category = {0: '2011', 1: '2012'}\n",
    "\n",
    "# Define a dictionary for month conversion\n",
    "month_category = {\n",
    "    1: 'Jan', 2: 'Feb', 3: 'Mar', 4: 'Apr', 5: 'May', 6: 'Jun',\n",
    "    7: 'Jul', 8: 'Aug', 9: 'Sep', 10: 'Oct', 11: 'Nov', 12: 'Dec'\n",
    "}\n",
    "\n",
    "# Define a dictionary for weather condition conversion\n",
    "weather_category = {\n",
    "    1: 'Clear', 2: 'Misty', 3: 'Light_rainsnow', 4: 'Heavy_rainsnow'\n",
    "}\n",
    "\n",
    "# Define a dictionary for day of the week conversion\n",
    "day_of_week_category = {\n",
    "    0: 'Sunday', 1: 'Monday', 2: 'Tuesday', 3: 'Wednesday', 4: 'Thursday', 5: 'Friday', 6: 'Saturday'\n",
    "}\n",
    "\n",
    "# Apply the conversions to both DataFrames\n",
    "for df in [for_day_df, for_hour_df]:\n",
    "    df['season'] = df['season'].map(season_category)\n",
    "    df['yr'] = df['yr'].map(year_category)\n",
    "    df['mnth'] = df['mnth'].map(month_category)\n",
    "    df['weathersit'] = df['weathersit'].map(weather_category)\n",
    "    df['one_of_week'] = df['weekday'].map(day_of_week_category)\n",
    "    df['hum'] = df['hum'] * 100"
   ]
  },
  {
   "cell_type": "markdown",
   "metadata": {},
   "source": [
    "**- Mengubah nama variabel agar mudah dibaca**"
   ]
  },
  {
   "cell_type": "code",
   "execution_count": 12,
   "metadata": {
    "scrolled": true
   },
   "outputs": [
    {
     "name": "stdout",
     "output_type": "stream",
     "text": [
      "   instantaneous date_of_day season_of_year  year month is_holiday  \\\n",
      "0              1  2011-01-01         Spring  2011   Jan          0   \n",
      "1              2  2011-01-02         Spring  2011   Jan          0   \n",
      "2              3  2011-01-03         Spring  2011   Jan          0   \n",
      "3              4  2011-01-04         Spring  2011   Jan          0   \n",
      "4              5  2011-01-05         Spring  2011   Jan          0   \n",
      "\n",
      "  day_of_week is_working_day weather_situation  temperature  \\\n",
      "0           6              0             Misty     0.344167   \n",
      "1           0              0             Misty     0.363478   \n",
      "2           1              1             Clear     0.196364   \n",
      "3           2              1             Clear     0.200000   \n",
      "4           3              1             Clear     0.226957   \n",
      "\n",
      "   actual_temperature  humidity  wind_speed  casual_users  registered_users  \\\n",
      "0            0.363625   80.5833    0.160446           331               654   \n",
      "1            0.353739   69.6087    0.248539           131               670   \n",
      "2            0.189405   43.7273    0.248309           120              1229   \n",
      "3            0.212122   59.0435    0.160296           108              1454   \n",
      "4            0.229270   43.6957    0.186900            82              1518   \n",
      "\n",
      "   count one_of_week  \n",
      "0    985    Saturday  \n",
      "1    801      Sunday  \n",
      "2   1349      Monday  \n",
      "3   1562     Tuesday  \n",
      "4   1600   Wednesday  \n",
      "   instantaneous date_of_day season_of_year  year month  hour is_holiday  \\\n",
      "0              1  2011-01-01         Spring  2011   Jan     0          0   \n",
      "1              2  2011-01-01         Spring  2011   Jan     1          0   \n",
      "2              3  2011-01-01         Spring  2011   Jan     2          0   \n",
      "3              4  2011-01-01         Spring  2011   Jan     3          0   \n",
      "4              5  2011-01-01         Spring  2011   Jan     4          0   \n",
      "\n",
      "  day_of_week is_working_day weather_situation  temperature  \\\n",
      "0           6              0             Clear         0.24   \n",
      "1           6              0             Clear         0.22   \n",
      "2           6              0             Clear         0.22   \n",
      "3           6              0             Clear         0.24   \n",
      "4           6              0             Clear         0.24   \n",
      "\n",
      "   actual_temperature  humidity  wind_speed  casual_users  registered_users  \\\n",
      "0              0.2879      81.0         0.0             3                13   \n",
      "1              0.2727      80.0         0.0             8                32   \n",
      "2              0.2727      80.0         0.0             5                27   \n",
      "3              0.2879      75.0         0.0             3                10   \n",
      "4              0.2879      75.0         0.0             0                 1   \n",
      "\n",
      "   count one_of_week  \n",
      "0     16    Saturday  \n",
      "1     40    Saturday  \n",
      "2     32    Saturday  \n",
      "3     13    Saturday  \n",
      "4      1    Saturday  \n"
     ]
    }
   ],
   "source": [
    "# Define the old and new variable names\n",
    "old_names = ['instant', 'dteday', 'season', 'yr', 'mnth', 'holiday', 'weekday', 'workingday', 'weathersit', 'temp', 'atemp', 'hum', 'windspeed', 'casual', 'registered', 'cnt', 'hr']\n",
    "new_names = ['instantaneous', 'date_of_day', 'season_of_year', 'year', 'month', 'is_holiday', 'day_of_week', 'is_working_day', 'weather_situation', 'temperature', 'actual_temperature', 'humidity', 'wind_speed', 'casual_users', 'registered_users', 'count', 'hour']\n",
    "\n",
    "# Create a dictionary mapping old names to new names\n",
    "name_mapping = dict(zip(old_names, new_names))\n",
    "\n",
    "# Apply the name mapping to both DataFrames\n",
    "for_day_df = for_day_df.rename(columns=name_mapping)\n",
    "print(for_day_df.head())\n",
    "for_hour_df = for_hour_df.rename(columns=name_mapping)\n",
    "print(for_hour_df.head())"
   ]
  },
  {
   "cell_type": "markdown",
   "metadata": {},
   "source": [
    "**- Menambah Variabel Baru Untuk Mengklasifikasi Hari Dan Kelembapan**"
   ]
  },
  {
   "cell_type": "code",
   "execution_count": 13,
   "metadata": {},
   "outputs": [],
   "source": [
    "# Membuat kolom baru bernama category_days\n",
    "one_of_week = [\"Monday\", \"Tuesday\", \"Wednesday\", \"Thursday\", \"Friday\", \"Saturday\", \"Sunday\"]\n",
    "def get_category_of_days(one_of_week):\n",
    "    if one_of_week in [\"Saturday\", \"Sunday\"]:\n",
    "        return \"weekend\"\n",
    "    else: \n",
    "        return \"weekdays\"\n",
    "\n",
    "for_day_df[\"category_of_days\"] = for_day_df[\"one_of_week\"].apply(get_category_of_days)\n",
    "for_hour_df[\"category_of_days\"] = for_hour_df[\"one_of_week\"].apply(get_category_of_days)"
   ]
  },
  {
   "cell_type": "code",
   "execution_count": 14,
   "metadata": {},
   "outputs": [],
   "source": [
    "def classify_humidity(humidity):\n",
    "    if humidity < 45:\n",
    "        return \"Terlalu kering\"\n",
    "    elif humidity >= 45 and humidity < 65:\n",
    "        return \"Ideal\"\n",
    "    else:\n",
    "        return \"Terlalu Lembab\"\n",
    "\n",
    "for_day_df[\"category_of_humidity\"] = for_day_df[\"humidity\"].apply(classify_humidity)\n",
    "for_hour_df[\"category_of_humidity\"] = for_hour_df[\"humidity\"].apply(classify_humidity)"
   ]
  },
  {
   "cell_type": "markdown",
   "metadata": {},
   "source": [
    "##### Pembersihan Data yang tidak digunakan #####"
   ]
  },
  {
   "cell_type": "markdown",
   "metadata": {},
   "source": [
    "Menghapus variabel yang tidak digunakan dalam analisis data sangat penting karena dapat meningkatkan efisiensi komputasi, mencegah model menjadi terlalu kompleks, dan meningkatkan akurasi hasil analisis dengan mengurangi noise atau gangguan dalam data. Variabel yang akan dihapus dari data ini adalah instan dan windspeed karena tidak digunakan untuk menjawab pertanyaan analisis."
   ]
  },
  {
   "cell_type": "code",
   "execution_count": 15,
   "metadata": {},
   "outputs": [
    {
     "data": {
      "text/html": [
       "<div>\n",
       "<style scoped>\n",
       "    .dataframe tbody tr th:only-of-type {\n",
       "        vertical-align: middle;\n",
       "    }\n",
       "\n",
       "    .dataframe tbody tr th {\n",
       "        vertical-align: top;\n",
       "    }\n",
       "\n",
       "    .dataframe thead th {\n",
       "        text-align: right;\n",
       "    }\n",
       "</style>\n",
       "<table border=\"1\" class=\"dataframe\">\n",
       "  <thead>\n",
       "    <tr style=\"text-align: right;\">\n",
       "      <th></th>\n",
       "      <th>instantaneous</th>\n",
       "      <th>date_of_day</th>\n",
       "      <th>season_of_year</th>\n",
       "      <th>year</th>\n",
       "      <th>month</th>\n",
       "      <th>hour</th>\n",
       "      <th>is_holiday</th>\n",
       "      <th>day_of_week</th>\n",
       "      <th>is_working_day</th>\n",
       "      <th>weather_situation</th>\n",
       "      <th>temperature</th>\n",
       "      <th>actual_temperature</th>\n",
       "      <th>humidity</th>\n",
       "      <th>casual_users</th>\n",
       "      <th>registered_users</th>\n",
       "      <th>count</th>\n",
       "      <th>one_of_week</th>\n",
       "      <th>category_of_days</th>\n",
       "      <th>category_of_humidity</th>\n",
       "    </tr>\n",
       "  </thead>\n",
       "  <tbody>\n",
       "    <tr>\n",
       "      <th>0</th>\n",
       "      <td>1</td>\n",
       "      <td>2011-01-01</td>\n",
       "      <td>Spring</td>\n",
       "      <td>2011</td>\n",
       "      <td>Jan</td>\n",
       "      <td>0</td>\n",
       "      <td>0</td>\n",
       "      <td>6</td>\n",
       "      <td>0</td>\n",
       "      <td>Clear</td>\n",
       "      <td>0.24</td>\n",
       "      <td>0.2879</td>\n",
       "      <td>81.0</td>\n",
       "      <td>3</td>\n",
       "      <td>13</td>\n",
       "      <td>16</td>\n",
       "      <td>Saturday</td>\n",
       "      <td>weekend</td>\n",
       "      <td>Terlalu Lembab</td>\n",
       "    </tr>\n",
       "    <tr>\n",
       "      <th>1</th>\n",
       "      <td>2</td>\n",
       "      <td>2011-01-01</td>\n",
       "      <td>Spring</td>\n",
       "      <td>2011</td>\n",
       "      <td>Jan</td>\n",
       "      <td>1</td>\n",
       "      <td>0</td>\n",
       "      <td>6</td>\n",
       "      <td>0</td>\n",
       "      <td>Clear</td>\n",
       "      <td>0.22</td>\n",
       "      <td>0.2727</td>\n",
       "      <td>80.0</td>\n",
       "      <td>8</td>\n",
       "      <td>32</td>\n",
       "      <td>40</td>\n",
       "      <td>Saturday</td>\n",
       "      <td>weekend</td>\n",
       "      <td>Terlalu Lembab</td>\n",
       "    </tr>\n",
       "    <tr>\n",
       "      <th>2</th>\n",
       "      <td>3</td>\n",
       "      <td>2011-01-01</td>\n",
       "      <td>Spring</td>\n",
       "      <td>2011</td>\n",
       "      <td>Jan</td>\n",
       "      <td>2</td>\n",
       "      <td>0</td>\n",
       "      <td>6</td>\n",
       "      <td>0</td>\n",
       "      <td>Clear</td>\n",
       "      <td>0.22</td>\n",
       "      <td>0.2727</td>\n",
       "      <td>80.0</td>\n",
       "      <td>5</td>\n",
       "      <td>27</td>\n",
       "      <td>32</td>\n",
       "      <td>Saturday</td>\n",
       "      <td>weekend</td>\n",
       "      <td>Terlalu Lembab</td>\n",
       "    </tr>\n",
       "    <tr>\n",
       "      <th>3</th>\n",
       "      <td>4</td>\n",
       "      <td>2011-01-01</td>\n",
       "      <td>Spring</td>\n",
       "      <td>2011</td>\n",
       "      <td>Jan</td>\n",
       "      <td>3</td>\n",
       "      <td>0</td>\n",
       "      <td>6</td>\n",
       "      <td>0</td>\n",
       "      <td>Clear</td>\n",
       "      <td>0.24</td>\n",
       "      <td>0.2879</td>\n",
       "      <td>75.0</td>\n",
       "      <td>3</td>\n",
       "      <td>10</td>\n",
       "      <td>13</td>\n",
       "      <td>Saturday</td>\n",
       "      <td>weekend</td>\n",
       "      <td>Terlalu Lembab</td>\n",
       "    </tr>\n",
       "    <tr>\n",
       "      <th>4</th>\n",
       "      <td>5</td>\n",
       "      <td>2011-01-01</td>\n",
       "      <td>Spring</td>\n",
       "      <td>2011</td>\n",
       "      <td>Jan</td>\n",
       "      <td>4</td>\n",
       "      <td>0</td>\n",
       "      <td>6</td>\n",
       "      <td>0</td>\n",
       "      <td>Clear</td>\n",
       "      <td>0.24</td>\n",
       "      <td>0.2879</td>\n",
       "      <td>75.0</td>\n",
       "      <td>0</td>\n",
       "      <td>1</td>\n",
       "      <td>1</td>\n",
       "      <td>Saturday</td>\n",
       "      <td>weekend</td>\n",
       "      <td>Terlalu Lembab</td>\n",
       "    </tr>\n",
       "  </tbody>\n",
       "</table>\n",
       "</div>"
      ],
      "text/plain": [
       "   instantaneous date_of_day season_of_year  year month  hour is_holiday  \\\n",
       "0              1  2011-01-01         Spring  2011   Jan     0          0   \n",
       "1              2  2011-01-01         Spring  2011   Jan     1          0   \n",
       "2              3  2011-01-01         Spring  2011   Jan     2          0   \n",
       "3              4  2011-01-01         Spring  2011   Jan     3          0   \n",
       "4              5  2011-01-01         Spring  2011   Jan     4          0   \n",
       "\n",
       "  day_of_week is_working_day weather_situation  temperature  \\\n",
       "0           6              0             Clear         0.24   \n",
       "1           6              0             Clear         0.22   \n",
       "2           6              0             Clear         0.22   \n",
       "3           6              0             Clear         0.24   \n",
       "4           6              0             Clear         0.24   \n",
       "\n",
       "   actual_temperature  humidity  casual_users  registered_users  count  \\\n",
       "0              0.2879      81.0             3                13     16   \n",
       "1              0.2727      80.0             8                32     40   \n",
       "2              0.2727      80.0             5                27     32   \n",
       "3              0.2879      75.0             3                10     13   \n",
       "4              0.2879      75.0             0                 1      1   \n",
       "\n",
       "  one_of_week category_of_days category_of_humidity  \n",
       "0    Saturday          weekend       Terlalu Lembab  \n",
       "1    Saturday          weekend       Terlalu Lembab  \n",
       "2    Saturday          weekend       Terlalu Lembab  \n",
       "3    Saturday          weekend       Terlalu Lembab  \n",
       "4    Saturday          weekend       Terlalu Lembab  "
      ]
     },
     "execution_count": 15,
     "metadata": {},
     "output_type": "execute_result"
    }
   ],
   "source": [
    "drop_cols_days = ['instantaneous', 'wind_speed']\n",
    "drop_cols_hour = ['wind_speed']\n",
    "\n",
    "for_day_df.drop(columns=drop_cols_days, inplace=True)\n",
    "for_hour_df.drop(columns=drop_cols_hour, inplace=True)\n",
    "\n",
    "for_day_df.head()\n",
    "for_hour_df.head()"
   ]
  },
  {
   "cell_type": "markdown",
   "metadata": {
    "id": "Q_5ejIqckiSP"
   },
   "source": [
    "**Insight:**\n",
    "- Sekarang hanya tersisa data-data yang digunakan untuk analisis\n",
    "- Banyak data yang tipe data awalnya belum sesuai untuk dilakukan analisis dan dengan proses data cleaning kita mempersiapkan data itu agar sesuai dan bisa digunakan\n",
    "- Data yang bersifat kategorikal dapat dikelompokkan lagi sesuai kebutuhan"
   ]
  },
  {
   "cell_type": "markdown",
   "metadata": {
    "id": "gp-Y6wU38DC1"
   },
   "source": [
    "## Exploratory Data Analysis (EDA)"
   ]
  },
  {
   "cell_type": "markdown",
   "metadata": {
    "id": "MW7WF2kr8DC1"
   },
   "source": [
    "EDA merupakan tahap eksplorasi data yang telah dibersihkan guna memperoleh insight dan menjawab pertanyaan analisis."
   ]
  },
  {
   "cell_type": "code",
   "execution_count": 16,
   "metadata": {
    "id": "e9CQCZjk8DC2"
   },
   "outputs": [
    {
     "name": "stdout",
     "output_type": "stream",
     "text": [
      "Rangkuman Statistik Data Day:\n",
      "                date_of_day season_of_year  year month  is_holiday  \\\n",
      "count                   731            731   731   731       731.0   \n",
      "unique                  731              4     2    12         2.0   \n",
      "top     2011-01-01 00:00:00           Fall  2012   Jan         0.0   \n",
      "freq                      1            188   366    62       710.0   \n",
      "first   2011-01-01 00:00:00            NaN   NaN   NaN         NaN   \n",
      "last    2012-12-31 00:00:00            NaN   NaN   NaN         NaN   \n",
      "mean                    NaN            NaN   NaN   NaN         NaN   \n",
      "std                     NaN            NaN   NaN   NaN         NaN   \n",
      "min                     NaN            NaN   NaN   NaN         NaN   \n",
      "25%                     NaN            NaN   NaN   NaN         NaN   \n",
      "50%                     NaN            NaN   NaN   NaN         NaN   \n",
      "75%                     NaN            NaN   NaN   NaN         NaN   \n",
      "max                     NaN            NaN   NaN   NaN         NaN   \n",
      "\n",
      "        day_of_week  is_working_day weather_situation  temperature  \\\n",
      "count         731.0           731.0               731   731.000000   \n",
      "unique          7.0             2.0                 3          NaN   \n",
      "top             0.0             1.0             Clear          NaN   \n",
      "freq          105.0           500.0               463          NaN   \n",
      "first           NaN             NaN               NaN          NaN   \n",
      "last            NaN             NaN               NaN          NaN   \n",
      "mean            NaN             NaN               NaN     0.495385   \n",
      "std             NaN             NaN               NaN     0.183051   \n",
      "min             NaN             NaN               NaN     0.059130   \n",
      "25%             NaN             NaN               NaN     0.337083   \n",
      "50%             NaN             NaN               NaN     0.498333   \n",
      "75%             NaN             NaN               NaN     0.655417   \n",
      "max             NaN             NaN               NaN     0.861667   \n",
      "\n",
      "        actual_temperature    humidity  casual_users  registered_users  \\\n",
      "count           731.000000  731.000000    731.000000        731.000000   \n",
      "unique                 NaN         NaN           NaN               NaN   \n",
      "top                    NaN         NaN           NaN               NaN   \n",
      "freq                   NaN         NaN           NaN               NaN   \n",
      "first                  NaN         NaN           NaN               NaN   \n",
      "last                   NaN         NaN           NaN               NaN   \n",
      "mean              0.474354   62.789406    848.176471       3656.172367   \n",
      "std               0.162961   14.242910    686.622488       1560.256377   \n",
      "min               0.079070    0.000000      2.000000         20.000000   \n",
      "25%               0.337842   52.000000    315.500000       2497.000000   \n",
      "50%               0.486733   62.666700    713.000000       3662.000000   \n",
      "75%               0.608602   73.020850   1096.000000       4776.500000   \n",
      "max               0.840896   97.250000   3410.000000       6946.000000   \n",
      "\n",
      "              count one_of_week category_of_days category_of_humidity  \n",
      "count    731.000000         731              731                  731  \n",
      "unique          NaN           7                2                    3  \n",
      "top             NaN      Sunday         weekdays                Ideal  \n",
      "freq            NaN         105              521                  334  \n",
      "first           NaN         NaN              NaN                  NaN  \n",
      "last            NaN         NaN              NaN                  NaN  \n",
      "mean    4504.348837         NaN              NaN                  NaN  \n",
      "std     1937.211452         NaN              NaN                  NaN  \n",
      "min       22.000000         NaN              NaN                  NaN  \n",
      "25%     3152.000000         NaN              NaN                  NaN  \n",
      "50%     4548.000000         NaN              NaN                  NaN  \n",
      "75%     5956.000000         NaN              NaN                  NaN  \n",
      "max     8714.000000         NaN              NaN                  NaN  \n"
     ]
    },
    {
     "name": "stderr",
     "output_type": "stream",
     "text": [
      "C:\\Users\\LENOVO\\AppData\\Local\\Temp\\ipykernel_38848\\2073877420.py:2: FutureWarning: Treating datetime data as categorical rather than numeric in `.describe` is deprecated and will be removed in a future version of pandas. Specify `datetime_is_numeric=True` to silence this warning and adopt the future behavior now.\n",
      "  summary_day = for_day_df.describe(include=\"all\")\n"
     ]
    }
   ],
   "source": [
    "# Menampilkan rangkuman statistik dari data di DataFrame Day\n",
    "summary_day = for_day_df.describe(include=\"all\")\n",
    "\n",
    "# Menampilkan hasilnya dengan format yang lebih rapi\n",
    "print(\"Rangkuman Statistik Data Day:\")\n",
    "print(summary_day)"
   ]
  },
  {
   "cell_type": "markdown",
   "metadata": {},
   "source": [
    "DataFrame yang digunakan ini berisikan data peminjaman yang dicatat sejak tanggal 01 Januari 2011 hingga 31 Desember 2012 atau dalam waktu 2 tahun. Periode pencatatan dilakukan setiap hari (terbukti dari unique pada date of day menunjukkan 731 yang berarti jumlah hari dalam 2 tahun tersebut). "
   ]
  },
  {
   "cell_type": "markdown",
   "metadata": {},
   "source": [
    "Kita juga bisa melihat penyewaan yang terjadi di setiap tahunnya"
   ]
  },
  {
   "cell_type": "code",
   "execution_count": 17,
   "metadata": {},
   "outputs": [
    {
     "data": {
      "text/html": [
       "<div>\n",
       "<style scoped>\n",
       "    .dataframe tbody tr th:only-of-type {\n",
       "        vertical-align: middle;\n",
       "    }\n",
       "\n",
       "    .dataframe tbody tr th {\n",
       "        vertical-align: top;\n",
       "    }\n",
       "\n",
       "    .dataframe thead th {\n",
       "        text-align: right;\n",
       "    }\n",
       "</style>\n",
       "<table border=\"1\" class=\"dataframe\">\n",
       "  <thead>\n",
       "    <tr style=\"text-align: right;\">\n",
       "      <th></th>\n",
       "      <th>year</th>\n",
       "      <th>count</th>\n",
       "    </tr>\n",
       "  </thead>\n",
       "  <tbody>\n",
       "    <tr>\n",
       "      <th>0</th>\n",
       "      <td>2012</td>\n",
       "      <td>2049576</td>\n",
       "    </tr>\n",
       "    <tr>\n",
       "      <th>1</th>\n",
       "      <td>2011</td>\n",
       "      <td>1243103</td>\n",
       "    </tr>\n",
       "  </tbody>\n",
       "</table>\n",
       "</div>"
      ],
      "text/plain": [
       "   year    count\n",
       "0  2012  2049576\n",
       "1  2011  1243103"
      ]
     },
     "execution_count": 17,
     "metadata": {},
     "output_type": "execute_result"
    }
   ],
   "source": [
    "# Jumlah penyewaan tiap season \n",
    "\n",
    "for_day_df.groupby(by=\"year\")[\"count\"].sum().sort_values(ascending=False).reset_index().head()"
   ]
  },
  {
   "cell_type": "markdown",
   "metadata": {},
   "source": [
    "Dapat diketahui bahwa jumlah penyewaan yang terjadi pada tahun 2012 yakni sebesar 2049576 jauh lebih besar daripada 2011 dengan penyewaan sebesar 1243103"
   ]
  },
  {
   "cell_type": "code",
   "execution_count": 18,
   "metadata": {},
   "outputs": [
    {
     "name": "stdout",
     "output_type": "stream",
     "text": [
      "Rangkuman Statistik Data Hour:\n",
      "        instantaneous          date_of_day season_of_year   year  month  \\\n",
      "count      17379.0000                17379          17379  17379  17379   \n",
      "unique            NaN                  731              4      2     12   \n",
      "top               NaN  2011-01-01 00:00:00           Fall   2012    May   \n",
      "freq              NaN                   24           4496   8734   1488   \n",
      "first             NaN  2011-01-01 00:00:00            NaN    NaN    NaN   \n",
      "last              NaN  2012-12-31 00:00:00            NaN    NaN    NaN   \n",
      "mean        8690.0000                  NaN            NaN    NaN    NaN   \n",
      "std         5017.0295                  NaN            NaN    NaN    NaN   \n",
      "min            1.0000                  NaN            NaN    NaN    NaN   \n",
      "25%         4345.5000                  NaN            NaN    NaN    NaN   \n",
      "50%         8690.0000                  NaN            NaN    NaN    NaN   \n",
      "75%        13034.5000                  NaN            NaN    NaN    NaN   \n",
      "max        17379.0000                  NaN            NaN    NaN    NaN   \n",
      "\n",
      "                hour  is_holiday  day_of_week  is_working_day  \\\n",
      "count   17379.000000     17379.0      17379.0         17379.0   \n",
      "unique           NaN         2.0          7.0             2.0   \n",
      "top              NaN         0.0          6.0             1.0   \n",
      "freq             NaN     16879.0       2512.0         11865.0   \n",
      "first            NaN         NaN          NaN             NaN   \n",
      "last             NaN         NaN          NaN             NaN   \n",
      "mean       11.546752         NaN          NaN             NaN   \n",
      "std         6.914405         NaN          NaN             NaN   \n",
      "min         0.000000         NaN          NaN             NaN   \n",
      "25%         6.000000         NaN          NaN             NaN   \n",
      "50%        12.000000         NaN          NaN             NaN   \n",
      "75%        18.000000         NaN          NaN             NaN   \n",
      "max        23.000000         NaN          NaN             NaN   \n",
      "\n",
      "       weather_situation   temperature  actual_temperature      humidity  \\\n",
      "count              17379  17379.000000        17379.000000  17379.000000   \n",
      "unique                 4           NaN                 NaN           NaN   \n",
      "top                Clear           NaN                 NaN           NaN   \n",
      "freq               11413           NaN                 NaN           NaN   \n",
      "first                NaN           NaN                 NaN           NaN   \n",
      "last                 NaN           NaN                 NaN           NaN   \n",
      "mean                 NaN      0.496987            0.475775     62.722884   \n",
      "std                  NaN      0.192556            0.171850     19.292983   \n",
      "min                  NaN      0.020000            0.000000      0.000000   \n",
      "25%                  NaN      0.340000            0.333300     48.000000   \n",
      "50%                  NaN      0.500000            0.484800     63.000000   \n",
      "75%                  NaN      0.660000            0.621200     78.000000   \n",
      "max                  NaN      1.000000            1.000000    100.000000   \n",
      "\n",
      "        casual_users  registered_users         count one_of_week  \\\n",
      "count   17379.000000      17379.000000  17379.000000       17379   \n",
      "unique           NaN               NaN           NaN           7   \n",
      "top              NaN               NaN           NaN    Saturday   \n",
      "freq             NaN               NaN           NaN        2512   \n",
      "first            NaN               NaN           NaN         NaN   \n",
      "last             NaN               NaN           NaN         NaN   \n",
      "mean       35.676218        153.786869    189.463088         NaN   \n",
      "std        49.305030        151.357286    181.387599         NaN   \n",
      "min         0.000000          0.000000      1.000000         NaN   \n",
      "25%         4.000000         34.000000     40.000000         NaN   \n",
      "50%        17.000000        115.000000    142.000000         NaN   \n",
      "75%        48.000000        220.000000    281.000000         NaN   \n",
      "max       367.000000        886.000000    977.000000         NaN   \n",
      "\n",
      "       category_of_days category_of_humidity  \n",
      "count             17379                17379  \n",
      "unique                2                    3  \n",
      "top            weekdays       Terlalu Lembab  \n",
      "freq              12365                 8356  \n",
      "first               NaN                  NaN  \n",
      "last                NaN                  NaN  \n",
      "mean                NaN                  NaN  \n",
      "std                 NaN                  NaN  \n",
      "min                 NaN                  NaN  \n",
      "25%                 NaN                  NaN  \n",
      "50%                 NaN                  NaN  \n",
      "75%                 NaN                  NaN  \n",
      "max                 NaN                  NaN  \n"
     ]
    },
    {
     "name": "stderr",
     "output_type": "stream",
     "text": [
      "C:\\Users\\LENOVO\\AppData\\Local\\Temp\\ipykernel_38848\\459490255.py:2: FutureWarning: Treating datetime data as categorical rather than numeric in `.describe` is deprecated and will be removed in a future version of pandas. Specify `datetime_is_numeric=True` to silence this warning and adopt the future behavior now.\n",
      "  summary_hour = for_hour_df.describe(include=\"all\")\n"
     ]
    }
   ],
   "source": [
    "# Menampilkan rangkuman statistik dari data di DataFrame Day\n",
    "summary_hour = for_hour_df.describe(include=\"all\")\n",
    "\n",
    "# Menampilkan hasilnya dengan format yang lebih rapi\n",
    "print(\"Rangkuman Statistik Data Hour:\")\n",
    "print(summary_hour)"
   ]
  },
  {
   "cell_type": "markdown",
   "metadata": {},
   "source": [
    "Dari data tersebut kita bisa mengetahui bahwa ada 17379 transaksi selama 2 tahun tersebut dengan peminjaman terbanyak pada hari kerja (weekdays)."
   ]
  },
  {
   "cell_type": "markdown",
   "metadata": {},
   "source": [
    "Kita juga dapat melihat pada jam berapa sepeda paling banyak disewa"
   ]
  },
  {
   "cell_type": "code",
   "execution_count": 19,
   "metadata": {},
   "outputs": [
    {
     "name": "stdout",
     "output_type": "stream",
     "text": [
      "Sewa Berdasarkan Jam:\n",
      "    hour   count\n",
      "0      0   39130\n",
      "1      1   24164\n",
      "2      2   16352\n",
      "3      3    8174\n",
      "4      4    4428\n",
      "5      5   14261\n",
      "6      6   55132\n",
      "7      7  154171\n",
      "8      8  261001\n",
      "9      9  159438\n",
      "10    10  126257\n",
      "11    11  151320\n",
      "12    12  184414\n",
      "13    13  184919\n",
      "14    14  175652\n",
      "15    15  183149\n",
      "16    16  227748\n",
      "17    17  336860\n",
      "18    18  309772\n",
      "19    19  226789\n",
      "20    20  164550\n",
      "21    21  125445\n",
      "22    22   95612\n",
      "23    23   63941\n"
     ]
    }
   ],
   "source": [
    "# Sewa berdasarkan jam\n",
    "sewa_berdasarkan_jam = for_hour_df.groupby(by=\"hour\")[\"count\"].sum().reset_index()\n",
    "print(\"Sewa Berdasarkan Jam:\")\n",
    "print(sewa_berdasarkan_jam)"
   ]
  },
  {
   "cell_type": "markdown",
   "metadata": {},
   "source": [
    "Dari data tersebut diketahui bahwa penyewaan sepeda paling banyak dilakukan pada pukul 17.00 dan paling sedikit pada pukul 04.00"
   ]
  },
  {
   "cell_type": "code",
   "execution_count": 20,
   "metadata": {},
   "outputs": [
    {
     "name": "stdout",
     "output_type": "stream",
     "text": [
      "Sewa Berdasarkan Hari:\n",
      "  one_of_week   count\n",
      "0      Sunday  444027\n",
      "1      Monday  455503\n",
      "2     Tuesday  469109\n",
      "3   Wednesday  473048\n",
      "4    Thursday  485395\n",
      "5      Friday  487790\n",
      "6    Saturday  477807\n"
     ]
    }
   ],
   "source": [
    "# Sewa berdasarkan hari\n",
    "sewa_berdasarkan_hari = for_hour_df.groupby(by=\"one_of_week\")[\"count\"].sum().reset_index()\n",
    "print(\"Sewa Berdasarkan Hari:\")\n",
    "print(sewa_berdasarkan_hari)"
   ]
  },
  {
   "cell_type": "markdown",
   "metadata": {},
   "source": [
    "Dari data tersebut diketahui bahwa penyewaan sepeda paling banyak dilakukan pada hari Jumat (Friday) dan paling sedikit pada hari Minggu (Sunday)"
   ]
  },
  {
   "cell_type": "markdown",
   "metadata": {
    "id": "th_Lzl2Fkj9O"
   },
   "source": [
    "**Insight yang ditemukan:**\n",
    "- Transaksi paling banyak terjadi pada musim gugur (Fall)\n",
    "- Tahun 2012 transaksi yang terjadi lebih banyak daripada 2011\n",
    "- Orang-orang umumnya menyewa sepeda pada hari kerja (weekdays)"
   ]
  },
  {
   "cell_type": "markdown",
   "metadata": {
    "id": "zsyZjqak8DC2"
   },
   "source": [
    "## Visualization & Explanatory Analysis"
   ]
  },
  {
   "cell_type": "markdown",
   "metadata": {},
   "source": [
    "Visualisasi data merupakan cara kita dalam menyajikan data dalam bentuk visual. Hal ini dilakukan untuk mempermudah kita dan orang lain dalam memahami data tersebut. Selain itu, visualisasi data yang baik juga akan sangat membantu kita dalam menyampaikan story dan pesan dari sebuah data."
   ]
  },
  {
   "cell_type": "markdown",
   "metadata": {
    "id": "HZxOiQ6n8DC2"
   },
   "source": [
    "### Pertanyaan 1:"
   ]
  },
  {
   "cell_type": "markdown",
   "metadata": {
    "id": "1swJUdAD8DC2"
   },
   "source": [
    "**Bagaimana perbandingan penyewaan sepeda pada hari kerja dengan hari weekend?**"
   ]
  },
  {
   "cell_type": "code",
   "execution_count": 21,
   "metadata": {},
   "outputs": [
    {
     "data": {
      "image/png": "[encoded data removed]",
      "text/plain": [
       "<Figure size 800x600 with 1 Axes>"
      ]
     },
     "metadata": {},
     "output_type": "display_data"
    }
   ],
   "source": [
    "# Membuat pie chart perbandingan penyewaan sepeda pada weekdays dan weekend\n",
    "import matplotlib.pyplot as plt\n",
    "plt.figure(figsize=(8,6))\n",
    "values = for_hour_df.groupby('category_of_days')['count'].sum()\n",
    "plt.pie(values, labels=['Weekdays', 'Weekend'], autopct='%1.1f%%')\n",
    "plt.title('Perbandingan Penyewaan Sepeda pada Weekdays dan Weekend')\n",
    "plt.legend(title='Kategori', labels=[f'Weekdays ({values[0]})', f'Weekend ({values[1]})'], bbox_to_anchor=(1.2, 0.5), loc='center right')\n",
    "plt.show()"
   ]
  },
  {
   "cell_type": "markdown",
   "metadata": {},
   "source": [
    "Dari grafik tersebut kita bisa melihat ada perbedaan yang sangat besar berkaitan dengan hari-hari dimana orang biasa menyewa sepeda. Sebanyak 72% transaksi penyewaan yang terjadi dilakukan pada hari kerja (Weekdays) dan sisanya yakni 28% dilakukan pada hari akhir pekan (Weekend)"
   ]
  },
  {
   "cell_type": "markdown",
   "metadata": {
    "id": "DgHI7CiU8DC2"
   },
   "source": [
    "### Pertanyaan 2:"
   ]
  },
  {
   "cell_type": "markdown",
   "metadata": {
    "id": "Go0lCsvO8DC2"
   },
   "source": [
    "**Bagaimana pengaruh cuaca terhadap banyaknya penyewa sepeda?**"
   ]
  },
  {
   "cell_type": "code",
   "execution_count": 22,
   "metadata": {},
   "outputs": [
    {
     "data": {
      "image/png": "[encoded data removed]",
      "text/plain": [
       "<Figure size 800x600 with 1 Axes>"
      ]
     },
     "metadata": {},
     "output_type": "display_data"
    }
   ],
   "source": [
    "# Membuat bar chart\n",
    "plt.figure(figsize=(8,6))\n",
    "for_hour_df.groupby('weather_situation')['count'].sum().plot(kind='bar', color=['blue', 'green', 'red', 'yellow', 'purple'])\n",
    "\n",
    "# Tambahkan label untuk setiap bar\n",
    "labels = [f\"{k}: {v:,}\" for k, v in zip(for_hour_df.groupby('weather_situation')['count'].sum().index, for_hour_df.groupby('weather_situation')['count'].sum().values)]\n",
    "for i, label in enumerate(labels):\n",
    "    plt.bar(for_hour_df.groupby('weather_situation')['count'].sum().index[i], for_hour_df.groupby('weather_situation')['count'].sum().values[i], label=label)\n",
    "\n",
    "plt.xlabel('Cuaca')\n",
    "plt.ylabel('Jumlah Penyewa Sepeda')\n",
    "plt.title('Pengaruh Cuaca terhadap Banyaknya Penyewa Sepeda')\n",
    "plt.xticks(rotation=45)\n",
    "plt.gca().yaxis.set_major_formatter(plt.FuncFormatter(lambda x, loc: \"{:,}\".format(int(x))))\n",
    "\n",
    "# Tambahkan legenda\n",
    "plt.legend(bbox_to_anchor=(1.2, 0.5), loc='center right', title='Keterangan')\n",
    "\n",
    "plt.tight_layout()\n",
    "plt.show()"
   ]
  },
  {
   "cell_type": "markdown",
   "metadata": {},
   "source": [
    "Dari grafik tersebut kita bisa melihat bahwa cuaca yang terjadi disetiap harinya berpengaruh terhadap banyaknya penyewaan sepeda yang terjadi. Penyewaan sepeda sangat tinggi saat cuaca sedang cerah, disusul dengan saat cuaca berawan dan paling sedikit saat hujan lebat atau sangat bersalju."
   ]
  },
  {
   "cell_type": "markdown",
   "metadata": {
    "id": "_0-36BDLklRg"
   },
   "source": [
    "**Insight:**\n",
    "- TIngkat kegiatan (produktivitas) berpengaruh terhadap penyewaan sepeda. Pada hari kerja terjadi banyak penyewaan sepeda kemungkinan karena harus bepergian ke banyak tempat seperti tempat kerja, sekolah atau bahkan sekadar belanja untuk kebutuhan di rumah\n",
    "- Cuaca juga berpengaruh terhadap banyaknya penyewaan sepeda yang dilakukan. Semakin baik kondisi cuaca maka semakin banyak orang yang menyewa sepeda. Hal ini sangat realistis karena orang memilih bersepeda karena lebih praktis dan juga menyehatkan, namun apabila cuaca buruk tetap bersepada akan menyulitkan atau bahkan membahayakan"
   ]
  },
  {
   "cell_type": "markdown",
   "metadata": {
    "id": "9y4VUsmcYNZ5"
   },
   "source": [
    "## Analisis Lanjutan (RFM Analysis)"
   ]
  },
  {
   "cell_type": "code",
   "execution_count": 23,
   "metadata": {
    "id": "iWhnzsJGYUCO"
   },
   "outputs": [
    {
     "name": "stdout",
     "output_type": "stream",
     "text": [
      "   registered  Recency  Frequency  Monetary\n",
      "0           0       38         23        34\n",
      "1           1        0        155       230\n",
      "2           2        1        206       553\n",
      "3           3        0        245       982\n",
      "4           4        3        267      1413\n"
     ]
    }
   ],
   "source": [
    "current_date = max(for_hour_df['date_of_day'])\n",
    "rfm_df = for_hour_df.drop_duplicates(subset=['registered_users', 'date_of_day']).groupby('registered_users').agg({\n",
    "    'date_of_day': lambda x: (current_date - x.max()).days,  # Recency\n",
    "    'instantaneous' :'count', #Frequency\n",
    "    'count': 'sum'  # Monetary\n",
    "}).reset_index()\n",
    "\n",
    "# Mengganti nama kolom\n",
    "rfm_df.columns = ['registered', 'Recency', 'Frequency', 'Monetary']\n",
    "\n",
    "# Tampilkan hasil\n",
    "print(rfm_df.head())"
   ]
  },
  {
   "cell_type": "markdown",
   "metadata": {
    "id": "_WeHlCeX8DC2"
   },
   "source": [
    "## Conclusion"
   ]
  },
  {
   "cell_type": "markdown",
   "metadata": {
    "id": "ZTcyR48Y8DC2"
   },
   "source": [
    "- Masih memungkinkan dilakukan analisis lebih dalam lagi untuk mendapatkan insight baru dari dataset ini."
   ]
  }
 ],
 "metadata": {
  "colab": {
   "provenance": []
  },
  "kernelspec": {
   "display_name": "Python 3 (ipykernel)",
   "language": "python",
   "name": "python3"
  },
  "language_info": {
   "codemirror_mode": {
    "name": "ipython",
    "version": 3
   },
   "file_extension": ".py",
   "mimetype": "text/x-python",
   "name": "python",
   "nbconvert_exporter": "python",
   "pygments_lexer": "ipython3",
   "version": "3.11.4"
  },
  "vscode": {
   "interpreter": {
    "hash": "972b3bf27e332e87b5379f2791f6ef9dfc79c71018c370b0d7423235e20fe4d7"
   }
  }
 },
 "nbformat": 4,
 "nbformat_minor": 1
}
